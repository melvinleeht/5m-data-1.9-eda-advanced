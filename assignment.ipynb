{
 "cells": [
  {
   "cell_type": "markdown",
   "id": "a7d579dd",
   "metadata": {},
   "source": [
    "# Assignment\n",
    "\n",
    "## Brief\n",
    "\n",
    "Write the Python codes for the following questions.\n",
    "\n",
    "## Instructions\n",
    "\n",
    "Paste the answer as Python in the answer code section below each question.\n",
    "\n",
    "### Question 1\n",
    "\n",
    "Question: Calculate the correlation between 'MSFT' and 'IBM' returns from a DataFrame of stock returns."
   ]
  },
  {
   "cell_type": "code",
   "execution_count": null,
   "id": "6a638cf6",
   "metadata": {},
   "outputs": [],
   "source": [
    "import pandas as pd\n",
    "\n",
    "# Assuming 'returns' is a DataFrame containing stock returns\n",
    "returns = pd.DataFrame({\n",
    "    'MSFT': [0.05, 0.07, -0.01],\n",
    "    'IBM': [0.04, 0.02, 0.03]\n",
    "})"
   ]
  },
  {
   "cell_type": "code",
   "execution_count": null,
   "id": "0be43f0c",
   "metadata": {},
   "outputs": [],
   "source": [
    "# Answer:\n",
    "import pandas as pd\n",
    "\n",
    "returns = pd.DataFrame({\n",
    "    'MSFT': [0.05, 0.07, -0.01],\n",
    "    'IBM': [0.04, 0.02, 0.03]\n",
    "})\n",
    "\n",
    "returns[\"MSFT\"].corr(returns[\"IBM\"])"
   ]
  },
  {
   "cell_type": "markdown",
   "id": "9ce99004",
   "metadata": {},
   "source": [
    "### Question 2\n",
    "\n",
    "Question: Convert the columns `B` and `C` from wide to long format."
   ]
  },
  {
   "cell_type": "code",
   "execution_count": null,
   "id": "fc34fe3e",
   "metadata": {},
   "outputs": [],
   "source": [
    "import pandas as pd\n",
    "\n",
    "df = pd.DataFrame({\n",
    "'A': {0: 'a', 1: 'b', 2: 'c'},\n",
    "'B': {0: 1, 1: 3, 2: 5},\n",
    "'C': {0: 2, 1: 4, 2: 6}\n",
    "})"
   ]
  },
  {
   "cell_type": "code",
   "execution_count": null,
   "id": "8c4a6f15",
   "metadata": {},
   "outputs": [],
   "source": [
    "# Answer:\n",
    "\n",
    "import pandas as pd\n",
    "\n",
    "df = pd.DataFrame({\n",
    "'A': {0: 'a', 1: 'b', 2: 'c'},\n",
    "'B': {0: 1, 1: 3, 2: 5},\n",
    "'C': {0: 2, 1: 4, 2: 6}\n",
    "})\n",
    "\n",
    "df.melt(id_vars=[\"A\"], var_name =\"B & C\", value_name=\"value\")"
   ]
  },
  {
   "cell_type": "markdown",
   "id": "9fc6602a",
   "metadata": {},
   "source": [
    "### Question 3\n",
    "\n",
    "Question: Slice the Series to return data from 5th to 15th January."
   ]
  },
  {
   "cell_type": "code",
   "execution_count": 1,
   "id": "ab6f553f",
   "metadata": {},
   "outputs": [],
   "source": [
    "import pandas as pd\n",
    "import numpy as np\n",
    "\n",
    "dates = pd.date_range(\"2023-01-01\", \"2023-01-31\")\n",
    "data = pd.Series(np.random.rand(len(dates)), index=dates)"
   ]
  },
  {
   "cell_type": "code",
   "execution_count": null,
   "id": "8da221fb",
   "metadata": {},
   "outputs": [
    {
     "data": {
      "text/plain": [
       "2023-01-05    0.599110\n",
       "2023-01-06    0.208048\n",
       "2023-01-07    0.757699\n",
       "2023-01-08    0.423378\n",
       "2023-01-09    0.864875\n",
       "2023-01-10    0.896766\n",
       "2023-01-11    0.083439\n",
       "2023-01-12    0.812803\n",
       "2023-01-13    0.577504\n",
       "2023-01-14    0.649090\n",
       "2023-01-15    0.710432\n",
       "Freq: D, dtype: float64"
      ]
     },
     "execution_count": 2,
     "metadata": {},
     "output_type": "execute_result"
    }
   ],
   "source": [
    "# Answer:\n",
    "import pandas as pd\n",
    "import numpy as np\n",
    "\n",
    "dates = pd.date_range(\"2023-01-01\", \"2023-01-31\")\n",
    "data = pd.Series(np.random.rand(len(dates)), index=dates)\n",
    "\n",
    "data[4:15]\n",
    "\n"
   ]
  },
  {
   "cell_type": "markdown",
   "id": "0029b850",
   "metadata": {},
   "source": [
    "## Submission\n",
    "\n",
    "- Submit the URL of the GitHub Repository that contains your work to NTU black board.\n",
    "- Should you reference the work of your classmate(s) or online resources, give them credit by adding either the name of your classmate or URL.\n"
   ]
  }
 ],
 "metadata": {
  "kernelspec": {
   "display_name": "pds",
   "language": "python",
   "name": "python3"
  },
  "language_info": {
   "codemirror_mode": {
    "name": "ipython",
    "version": 3
   },
   "file_extension": ".py",
   "mimetype": "text/x-python",
   "name": "python",
   "nbconvert_exporter": "python",
   "pygments_lexer": "ipython3",
   "version": "3.10.18"
  }
 },
 "nbformat": 4,
 "nbformat_minor": 5
}
